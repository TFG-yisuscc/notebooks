{
 "cells": [
  {
   "cell_type": "markdown",
   "metadata": {},
   "source": [
    "# Notebook 01: Example Data Analysis\n",
    "\n",
    "This notebook demonstrates how to use the common libraries and work with datasets."
   ]
  },
  {
   "cell_type": "code",
   "execution_count": null,
   "metadata": {},
   "outputs": [],
   "source": [
    "# Add the project root to the path to import common libraries\n",
    "import sys\n",
    "from pathlib import Path\n",
    "\n",
    "# Add common library to path\n",
    "project_root = Path().absolute().parent.parent\n",
    "sys.path.insert(0, str(project_root))\n",
    "\n",
    "# Import common libraries\n",
    "from common.lib import data_processing, visualization, utils"
   ]
  },
  {
   "cell_type": "code",
   "execution_count": null,
   "metadata": {},
   "outputs": [],
   "source": [
    "# Import standard libraries\n",
    "import pandas as pd\n",
    "import numpy as np\n",
    "import matplotlib.pyplot as plt\n",
    "import seaborn as sns"
   ]
  },
  {
   "cell_type": "code",
   "execution_count": null,
   "metadata": {},
   "outputs": [],
   "source": [
    "# Load configuration\n",
    "config = utils.load_config()\n",
    "print(\"Project configuration:\", config)"
   ]
  },
  {
   "cell_type": "code",
   "execution_count": null,
   "metadata": {},
   "outputs": [],
   "source": [
    "# Get dataset path for this notebook\n",
    "dataset_path = utils.get_dataset_path('notebook_01')\n",
    "print(f\"Dataset path: {dataset_path}\")\n",
    "\n",
    "# List files in dataset directory\n",
    "if dataset_path.exists():\n",
    "    files = list(dataset_path.glob('*'))\n",
    "    print(f\"Files in dataset: {files}\")\n",
    "else:\n",
    "    print(\"Dataset directory not found. Please add your data files to the dataset folder.\")"
   ]
  },
  {
   "cell_type": "markdown",
   "metadata": {},
   "source": [
    "## Example: Creating Sample Data\n",
    "\n",
    "Here's an example of creating and processing sample data using the common libraries."
   ]
  },
  {
   "cell_type": "code",
   "execution_count": null,
   "metadata": {},
   "outputs": [],
   "source": [
    "# Create sample data\n",
    "np.random.seed(config.get('common_settings', {}).get('random_seed', 42))\n",
    "\n",
    "sample_data = pd.DataFrame({\n",
    "    'feature_1': np.random.randn(100),\n",
    "    'feature_2': np.random.randn(100) * 2 + 5,\n",
    "    'feature_3': np.random.randint(1, 100, 100),\n",
    "    'target': np.random.choice(['A', 'B', 'C'], 100)\n",
    "})\n",
    "\n",
    "# Add some missing values\n",
    "sample_data.loc[sample_data.index[:5], 'feature_1'] = np.nan\n",
    "\n",
    "print(\"Sample data shape:\", sample_data.shape)\n",
    "sample_data.head()"
   ]
  },
  {
   "cell_type": "code",
   "execution_count": null,
   "metadata": {},
   "outputs": [],
   "source": [
    "# Get basic statistics using common library\n",
    "stats = data_processing.get_basic_stats(sample_data)\n",
    "print(\"Basic statistics:\")\n",
    "stats"
   ]
  },
  {
   "cell_type": "code",
   "execution_count": null,
   "metadata": {},
   "outputs": [],
   "source": [
    "# Clean missing values\n",
    "cleaned_data = data_processing.clean_missing_values(sample_data, strategy='drop')\n",
    "print(f\"Data shape after cleaning: {cleaned_data.shape}\")"
   ]
  },
  {
   "cell_type": "markdown",
   "metadata": {},
   "source": [
    "## Visualization Examples"
   ]
  },
  {
   "cell_type": "code",
   "execution_count": null,
   "metadata": {},
   "outputs": [],
   "source": [
    "# Plot distribution using common visualization library\n",
    "visualization.plot_distribution(\n",
    "    cleaned_data['feature_1'], \n",
    "    title='Distribution of Feature 1'\n",
    ")"
   ]
  },
  {
   "cell_type": "code",
   "execution_count": null,
   "metadata": {},
   "outputs": [],
   "source": [
    "# Plot scatter plot\n",
    "visualization.plot_scatter(\n",
    "    cleaned_data['feature_1'],\n",
    "    cleaned_data['feature_2'],\n",
    "    title='Feature 1 vs Feature 2',\n",
    "    xlabel='Feature 1',\n",
    "    ylabel='Feature 2'\n",
    ")"
   ]
  },
  {
   "cell_type": "code",
   "execution_count": null,
   "metadata": {},
   "outputs": [],
   "source": [
    "# Plot correlation matrix\n",
    "numeric_data = cleaned_data.select_dtypes(include=[np.number])\n",
    "visualization.plot_correlation_matrix(\n",
    "    numeric_data,\n",
    "    title='Feature Correlation Matrix'\n",
    ")"
   ]
  },
  {
   "cell_type": "markdown",
   "metadata": {},
   "source": [
    "## Data Processing Examples"
   ]
  },
  {
   "cell_type": "code",
   "execution_count": null,
   "metadata": {},
   "outputs": [],
   "source": [
    "# Normalize a column\n",
    "normalized_data = data_processing.normalize_column(cleaned_data, 'feature_3')\n",
    "print(\"Feature 3 before normalization:\")\n",
    "print(f\"Min: {cleaned_data['feature_3'].min()}, Max: {cleaned_data['feature_3'].max()}\")\n",
    "print(\"\\nFeature 3 after normalization:\")\n",
    "print(f\"Min: {normalized_data['feature_3'].min()}, Max: {normalized_data['feature_3'].max()}\")"
   ]
  },
  {
   "cell_type": "markdown",
   "metadata": {},
   "source": [
    "## Save Results\n",
    "\n",
    "You can save your processed data back to the dataset folder."
   ]
  },
  {
   "cell_type": "code",
   "execution_count": null,
   "metadata": {},
   "outputs": [],
   "source": [
    "# Example: Save processed data\n",
    "# output_path = dataset_path / 'processed_data.csv'\n",
    "# normalized_data.to_csv(output_path, index=False)\n",
    "# print(f\"Processed data saved to: {output_path}\")"
   ]
  }
 ],
 "metadata": {
  "kernelspec": {
   "display_name": "Python 3",
   "language": "python",
   "name": "python3"
  },
  "language_info": {
   "codemirror_mode": {
    "name": "ipython",
    "version": 3
   },
   "file_extension": ".py",
   "mimetype": "text/x-python",
   "name": "python",
   "nbconvert_exporter": "python",
   "pygments_lexer": "ipython3",
   "version": "3.8.0"
  }
 },
 "nbformat": 4,
 "nbformat_minor": 4
}
